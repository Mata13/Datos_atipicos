{
 "cells": [
  {
   "cell_type": "markdown",
   "id": "13a2ecc5-2211-4bf7-b509-65e151135c9c",
   "metadata": {},
   "source": [
    "<font color='IndianRed'>\n",
    "<font size=10> \n",
    "\n",
    "**Tratamiento de Datos Atípicos**"
   ]
  },
  {
   "cell_type": "markdown",
   "id": "c4a01ac1-9ae2-46b9-9978-ed66ff0ab601",
   "metadata": {},
   "source": [
    "<font color = 'DodgerBlue'>\n",
    "<font size = 7>\n",
    "    \n",
    "**Introducción**"
   ]
  },
  {
   "cell_type": "markdown",
   "id": "66525758-d30b-4dcc-972a-f70ba1d743d5",
   "metadata": {},
   "source": [
    "<font color = 'Black'>\n",
    "<font size = 3>\n",
    "\n",
    "Los **datos atípicos** o **outliers**, o también conocidos como **datos anómalos** o **anomalías**, son observaciones cuyos valores son muy diferentes a las otras observaciones del mismo grupo de datos. Desde el punto de vista **distribucional**, se podría decir que son datos que no pertenecen a la misma **distribución** que los demás, es decir, han sido creados por un proceso o una distribución diferente.\n",
    "\n",
    "Los **datos atípicos** pueden ser ocasionados por diversas causas:  \n",
    "\n",
    "**a)** Errores de procedimiento o de medición.  \n",
    "**b)** Acontecimientos extraordinarios.  \n",
    "**c)** Valores muy extremos.  \n",
    "**d)** Causas no conocidas.  \n",
    "\n",
    "---"
   ]
  },
  {
   "cell_type": "markdown",
   "id": "fd5342b9-1ff3-4ded-abc2-4c0ea3e3b438",
   "metadata": {},
   "source": [
    "<font color = 'LightSeaGreen'>\n",
    "<font size = 3>\n",
    "\n",
    "**Ejemplo 1: Brillo de las estrellas**"
   ]
  },
  {
   "cell_type": "markdown",
   "id": "92828d96-da69-4f2c-9eb6-4a19df8b1905",
   "metadata": {},
   "source": [
    "<font color = 'LightSeaGreen'>\n",
    "<font size = 3>\n",
    "\n",
    "El cúmulo de estrellas conocido como Cyg OB2, situada en la Constelación del Cisne. Algunas estimaciones recientes, basadas en observaciones infrarrojas y estudios de densidad estelar, sugieren que el cúmulo podría tener hasta 10,000 estrellas en total, pero no todas son masivas; muchas son estrellas menos luminosas y difíciles de detectar.\n",
    "\n",
    "Este cúmulo se encuentra a unos 5,000 años luz de la Tierra. Imagina que graficamos la luminosidad contra la temperatuara en algunas estrellas. Uno esperaría que a mayor temperatura habrá mayor luminosidad. Veamos las siguientes gráficas. Al parecer nuestra conjetura es casi cierta, salvo por un pequeño grupo de estrellas que tienen baja temperatura pero muy alta luminosidad. \n",
    "\n",
    "¿A qué se puede deber esto? ¿Alguien se equivocó al recabar la información? ¿Existirá un fenómeno físico escondido en ellas?\n",
    "\n",
    "<img src=\"Img/im001.png\" style=\"display:block; margin:auto;\">\n",
    "\n",
    "---"
   ]
  },
  {
   "cell_type": "markdown",
   "id": "68cc332b-dc5a-4fa6-81c5-32340173af07",
   "metadata": {},
   "source": [
    "<font color = 'LightSeaGreen'>\n",
    "<font size = 3>\n",
    "\n",
    "**Ejemplo 2: Puntuación de los episodios de los Simpson**"
   ]
  },
  {
   "cell_type": "markdown",
   "id": "822ab9a7-b6f4-44f5-8251-c183ad38c088",
   "metadata": {},
   "source": [
    "<font color = 'LightSeaGreen'>\n",
    "<font size = 3>\n",
    "\n",
    "Consideremos las primeras 35 temporadas de los Simpson, rankeadas con un valor entre 0 y 100. Los puntajes atípicos pueden ser fácilmente identificados como aquellos capítulos donde el color no \"empareja\" con los demás colores.\n",
    "\n",
    "<img src=\"Img/im002.png\" style=\"display:block; margin:auto;\">\n",
    "\n",
    "---"
   ]
  },
  {
   "cell_type": "markdown",
   "id": "18725dc1-e7ca-4460-9e8f-b0d803b59f2b",
   "metadata": {},
   "source": [
    "<font color = 'LightSeaGreen'>\n",
    "<font size = 3>\n",
    "\n",
    "**Ejemplo 3: El Cuarteto de Anscombe**"
   ]
  },
  {
   "cell_type": "markdown",
   "id": "3cdfe01d-24a8-4e74-abc6-5ed97e652c6e",
   "metadata": {},
   "source": [
    "<font color = 'LightSeaGreen'>\n",
    "<font size = 3>\n",
    "\n",
    "El Cuarteto de Anscombe es un conjunto de cuatro conjuntos de datos creados por el estadístico **Francis Anscombe** en 1973 para demostrar la importancia de visualizar los datos en lugar de depender únicamente de estadísticas descriptivas como la **media** y la **varianza**.\n",
    "\n",
    "<img src=\"Img/im003.png\" style=\"display:block; margin:auto;\">\n",
    "\n",
    "Lo que nos muestra la imagen es que la presencia de un **dato atípico** afecta la tendencia de la recta.\n",
    "\n",
    "---"
   ]
  },
  {
   "cell_type": "markdown",
   "id": "c0d3cb1a-592e-4b7c-ace9-fe626a14e876",
   "metadata": {},
   "source": [
    "<font color = 'DodgerBlue'>\n",
    "<font size = 5>\n",
    "    \n",
    "**¿Qué es un outlier?**"
   ]
  },
  {
   "cell_type": "markdown",
   "id": "75357dcc-6cca-46d3-b9ab-e2820b5aee56",
   "metadata": {},
   "source": [
    "<font color = 'Black'>\n",
    "<font size = 3>\n",
    "\n",
    "Un **outlier** es un dato que no se ajusta al patrón general de los **datos**. Es por eso que también es llamado *dato atípico* o *anómalo*. \n",
    "\n",
    "Es decir, son observaciones que tienen características muy diferentes a las otras observaciones. Por lo tanto, debemos evaluar el tipo de información que nos pueden proporcionar. \n",
    "\n",
    "Pueden surgir por un error de procedimiento, como la recolección de los **datos**, o como consecuencia de un evento extraordinario. \n",
    "\n",
    "Su principal problema radica en que son elementos que pueden no ser representativos de una **población**, pudiendo distorsionar seriamente el comportamiento de los métodos o **análisis estadísticos** que hagamos.\n",
    "\n",
    "En este sentido, pueden aumentar la **varianza** (o dispersión) de una característica o **sesgar** e influir negativamente en las estimaciones que se hagan.\n",
    "\n",
    "---"
   ]
  },
  {
   "cell_type": "markdown",
   "id": "786cc80c-f738-4300-8a88-e4816fa01f75",
   "metadata": {},
   "source": [
    "<font color = 'DodgerBlue'>\n",
    "<font size = 5>\n",
    "    \n",
    "**Muestras y poblaciones**"
   ]
  },
  {
   "cell_type": "markdown",
   "id": "6d5a8941-148b-48d2-bc10-a88c1671014d",
   "metadata": {},
   "source": [
    "<font color = 'Black'>\n",
    "<font size = 3>\n",
    "\n",
    "Una **población** es un conjunto sobre el cual queremos hacer alguna **inferencia**. La **población** se trata del *grupo completo* que queremos estudiar. Por ejemplo, todos los votantes de un país, todos los focos producidos por una empresa durante un mes, todas las estellas en una cierta galaxia, los televidentes de una serie o programa, o las personas susceptibles a contagiarse de una cierta enfermedad.   \n",
    "\n",
    "De esta manera, el problema principal de la **Estadística Inferencial** es hacer deducciones acerca de la población de interés. Por ejemplo, cómo se repartirán los votos de los votantes, qué porcentaje de focos producidos son defectuosos, cuál es el brillo promedio de las estrellas en la galaxia, el valor promedio del gusto de los televidentes de una serie, o en qué porcentaje funciona un medicamento en personas susceptibles a contagiarse de cierta enfermedad.\n",
    "\n",
    "Por su parte, como lo palabra lo indica, una **muestra** es un subconjunto de algo más grande; en este caso, un subconjunto de la **población**. En general, tomar la **población** de interés para medir la característica de estudio es imposible, debido a recursos económicos, técnicos o de tiempo. Por ejemplo, para conocer el brillo promedio de las estrellas en la galaxia es imposible que midamos el brillo de todas sus estrellas. Es por ello que tomamos una muestra en la cual los factores anteriores (falta de recursos mencionados previamente) no representen un problema.\n",
    "\n",
    "Un **muestreo aleatorio simple** es un procedimiento para seleccionar una **muestra** de la **población**, el cual tiene la característica de que si $a$ y $b$ son cualesquiera dos elementos de la **población**, entonces el total de muestras en las que vive $a$ es igual al total de **muestras** en las que vive $b$. Es decir, seleccionas los elementos de la **muestra** al azar.\n",
    "\n",
    "Para dar una idea de esto, supongamos que tenemos una **población**:\n",
    "\n",
    "$$\\mathbb{P} = \\{a, b, c\\}$$\n",
    "\n",
    "y te preguntas, cuántas **muestras** tienen a $a$?\n",
    "\n",
    "$$\\{a\\}, \\{a, b\\}, \\{a, c\\}, \\{a, b, c\\}$$\n",
    "\n",
    "Cuántas **muestras** tienen a $b$?\n",
    "\n",
    "$$\\{b\\}, \\{a, b\\}, \\{b, c\\}, \\{a, b, c\\}$$\n",
    "\n",
    "El total de **muestras** que contienen a $a$ es igual que el total de **muestras** que contienen $b$.\n",
    "\n",
    "---"
   ]
  },
  {
   "cell_type": "markdown",
   "id": "8bea8a0a-1bf9-41ef-9200-a53229f230b5",
   "metadata": {},
   "source": [
    "<font color = 'DodgerBlue'>\n",
    "<font size = 5>\n",
    "    \n",
    "**Variables aleatorias**"
   ]
  },
  {
   "cell_type": "markdown",
   "id": "e4699b66-0949-45d3-bbf5-935d5b27f699",
   "metadata": {},
   "source": [
    "<font color = 'Black'>\n",
    "<font size = 3>\n",
    "\n",
    "Una **variable alealtoria** es una característica de la **población** (de cada elemento de la **población**): por quién votará una persona; el foco funciona bien o no; el brillo de una estrella; qué calificación le da un televidente a un episodio de la serie; el medicamente sirve o no en la persona contagiada.\n",
    "\n",
    "Como quiera que sea, las **variables aleatorias** siempre se representan con números. Por ejemplo, 1 si el foco funciona bien o 0 si no lo hace; o la intensidad del brillo estelar; o la calificación que asigna el televidente; o 1 si el medicamento sirve y 0 si no sirve.\n",
    "\n",
    "Las **variables aleatorias** siguen *comportamientos generales*, aunque no siempre son evidentes. A ese comportamiento es a lo que llamamos **distribución de la variable aleatoria**. \n",
    "\n",
    "En general tenemos dos tipos de **variables aleatorias**: **discretas** y **continuas**. \n",
    "\n",
    "---"
   ]
  },
  {
   "cell_type": "markdown",
   "id": "290ef907-f5c8-499c-a47e-479601ea2af4",
   "metadata": {},
   "source": [
    "<font color = 'DodgerBlue'>\n",
    "<font size = 5>\n",
    "    \n",
    "**Variables discretas y continuas**"
   ]
  },
  {
   "cell_type": "markdown",
   "id": "7ba4c106-2acf-4a62-9530-49bb6f0b8595",
   "metadata": {},
   "source": [
    "<font color = 'Black'>\n",
    "<font size = 3>\n",
    "\n",
    "Las **variables aleatorias** siempre se representan con números. Si el total de resultados es un conjunto finito o numerable, se dice que se trata de una **variable discreta**; en caso contrario, se dice que es una **variable continua**.\n",
    "\n",
    "Por ejemplo, la edad de los televidentes de una serie. Este valor, puede ser 0 años, 1 año, 2 años,..., 75 años, 76 años y probablemente más. Por lo tanto, el conjunto de posibles edades **es contable**, así que se trata de una variable de tipo discreto. \n",
    "\n",
    "Por su parte, si al televidente se le pregunta la calificación de cierto capítulo y se le permite elegir cualquier valor entre 0 y 10, él podría decir 4.5, $\\pi$, 9.5437261, etc. Entonces el conjunto de valores que puede tomar esta **variable aleatoria** no es contable, por lo que es una variable **continua**.\n",
    "\n",
    "<img src=\"Img/im004.png\" style=\"display:block; margin:auto;\">\n",
    "\n",
    "Finalmente, el **rango** de una **variable aleatoria** son todos los posibles resultados que pueda tener.\n",
    "\n",
    "En resumen:\n",
    "\n",
    "* Nos va a interesar medir una **característica** de la **población**: **variable aleatoria**.\n",
    "\n",
    "* Dicha **característica** puede ser **discreta** o **continua**.\n",
    "\n",
    "* Al no poder medir la **característica** en toda la **población**, utilizamos una **muestra**.\n",
    "\n",
    "---"
   ]
  },
  {
   "cell_type": "markdown",
   "id": "25e68742-78af-4020-b552-4e2f5e0186dc",
   "metadata": {},
   "source": [
    "<font color = 'DodgerBlue'>\n",
    "<font size = 5>\n",
    "    \n",
    "**Distribución de una variable aleatoria**"
   ]
  },
  {
   "cell_type": "markdown",
   "id": "36fc1dd6-3cf0-490b-8b2c-72e817fa0ba5",
   "metadata": {},
   "source": [
    "<font color = 'Black'>\n",
    "<font size = 3>\n",
    "\n",
    "Como hemos dicho, el comportamiento de una **variable aleatoria** es lo que se denomina **su distribución** o *ley de probabilidades*.\n",
    "\n",
    "Imagina que lanzas una moneda dos veces. Anotamos el número de caras que obtuvimos. De esta manera, los posibles resultados son 0,1 y 2: ninguna; una cara y una cruz o una cruz y una cara; ambas caras. Entonces el **rango** es $\\{0,1,2\\}$.\n",
    "\n",
    "Ahora observemos cada elemento del rango. Sabemos que los posibles resultados de los lanzamientos fueron *cara, cara*; *cara, cruz*; *cruz, cara* y *cruz, cruz*. Por lo tanto:\n",
    "\n",
    "- El 0 solo se puede obtener de una manera, donde las dos monedas te dieron *cruz*.\n",
    "- El 1 se puede obtener de dos manera, cuando te salió *cara* y *cruz* o cuando te salió *cruz* - *cara*.\n",
    "- El 2 se puede obtener de una manera, cuando te salió *cara* - *cara*.\n",
    "\n",
    "Otra manera de ver lo anterior:\n",
    "\n",
    "Lanzo la moneda dos veces. Anoto, en cada ocasión, que me dio de resultado. Esto pudo ser:\n",
    "\n",
    "$$\\{cara, cruz\\}, \\{cara, cruz\\}, \\{cruz, cara\\}, \\{cruz, cruz\\}$$\n",
    "\n",
    "El eventto en el que me salió exactamente una cara es \n",
    "\n",
    "$$\\{cara, cruz\\}, \\textcolor{red}{\\{cara, cruz\\}, \\{cruz, cara\\}}, \\{cruz, cruz\\}$$\n",
    "\n",
    "Como hay 4 posibles resultados, entonces lo anterior se escribe como $$P(0)=\\frac{1}{4},\\,P(1)=\\frac{2}{4},\\,P(2)=\\frac{1}{4}$$\n",
    "\n",
    "De esta manera, si $X$ es el número de caras obtenidas. Es decir, es un número, entonces \n",
    "\n",
    "$$\\textcolor{blue}{P(X=0)=\\frac{1}{4},\\,P(X=1)=\\frac{2}{4},\\,P(X=2)=\\frac{1}{4}}$$\n",
    "\n",
    "En general, al número $P(X=x)$, donde $x = 0, 1, 2$, se le denota por $f(x)$. A esta función $f$ se le llama **densidad**. La $f(x)$ minúscula es la **probabilidad** de observar exactamente un valor.\n",
    "\n",
    "> ⚠️ **Nota importante: La $f(x)$ minúscula es la probabilidad de observar exactamente un valor.**\n",
    "\n",
    "> ⚠️ **Nota importante: La densidad $f(x)$ es la probabilidad de observar exactamente un valor.**\n",
    "\n",
    "Finalmente, la **distribución de una variable aleatoria** es la función que le asigna a cada número la probabilidad de que la **variable aleatoria** sea menor o igual que ese valor; se denota por $F$. Así si $x$ es un número cualquiera, entonces $$F(x)=P(X\\le x)$$\n",
    "\n",
    "> ⚠️ **Nota importante: La $F(x)$ mayúscula es la probabilidad de observar menos que un valor.**\n",
    "\n",
    "> ⚠️ **Nota importante: La distribución $F(x)$ es la probabilidad de observar menos que un valor.**\n",
    "\n",
    "---\n",
    "\n",
    "En el ejemplo de las monedas: $$F(x)=\\left\\{\\begin{array}{l}0\\,\\mbox{ si }\\,x<0\\\\0.25\\,\\mbox{ si }\\,0\\le x<1\\\\0.75\\,\\mbox{ si }\\,1\\le x<2\\\\1\\,\\mbox{ si }\\,2\\le x \\end{array}\\right.$$\n",
    "\n",
    "Por lo tanto, la **distribución** y la **densidad** de una **variable aleatoria** se relacionan de la siguiente manera:\n",
    "\n",
    "* **Caso discreto.** En este caso $f(x)=P(X=x)$ y $$F(x)=P(X\\le x)=\\sum_{x\\in R}xf(x)$$\n",
    "\n",
    "Esto quiere decir que la probabilidad de observar el pasado es la suma de las probabilidades de cada instante pasado.\n",
    "\n",
    "Además, siempre se tiene \n",
    "\n",
    "$$\\sum_{x\\in R}f(x)=1$$\n",
    "\n",
    "* **Caso continuo.** En este caso $f(x)=F^\\prime(x)$ y $$F(x)=P(X\\le x)=\\int_{-\\infty}^x f(t)\\,\\mathrm{d}t$$\n",
    "\n",
    "Esto quiere decir que, la $F(x)$ es la integral del pasado hasta el presente, de todos los presentes posibles.\n",
    "\n",
    "Además, siempre se tiene \n",
    "\n",
    "$$\\int_{-\\infty}^\\infty f(x)\\,\\mathrm{d}x=1$$\n",
    "\n",
    "Es decir, la integral de todos los presentes siempre es 1.\n",
    "\n",
    "Esta última propiedad significa lo siguiente: como $f$ es una función, se puede graficar. Pues, resulta que el área bajo la curva siempre es 1:\n",
    "\n",
    "<img src = \"Img/im005.png\" style = \"display:block; margin:auto;\">\n",
    "\n",
    "---\n",
    "\n",
    "Si $X$ es una **variable aleatoria** en $(\\Omega, \\mathcal{F}, P)$, donde $P \\ll \\mu$, siendo $\\mu$ la medida de Lebesgue\n",
    "\n",
    "$$P_{X}(A) = P(X^{-1}(A))$$ \n",
    "\n",
    "$\\forall A$ de Borel. Entonces, $P_{X} \\ll \\mu$. Por lo tanto, existe $f$ tal que $dP_{X} = f d \\mu$.\n",
    "\n",
    "Entonces,\n",
    "\n",
    "$$E[X] = \\int_{\\Omega} X dP_{X} = \\int_{\\mathbb{R}} x f(x) d \\mu.$$\n",
    "\n",
    "---"
   ]
  },
  {
   "cell_type": "markdown",
   "id": "92cd1a6f-9b24-4292-92d9-a11d11275092",
   "metadata": {},
   "source": [
    "<font color = 'DodgerBlue'>\n",
    "<font size = 5>\n",
    "    \n",
    "**Histogramas**"
   ]
  },
  {
   "cell_type": "markdown",
   "id": "4ec3efcd-65e9-4740-b70d-712e2a980bfc",
   "metadata": {},
   "source": [
    "<font color = 'Black'>\n",
    "<font size = 3>\n",
    "\n",
    "Una manera sencilla de entender la **distribución** de una **variable aleatoria** es mediante un gráfico de tipo **histograma**. Este es un tipo de gráfico que funciona dividiendo el **rango** de la **variable aleatoria** en segmentos iguales y ver cuántos valores caen en cada parte.\n",
    "\n",
    "<img src = \"Img/im006.png\" style = \"display:block; margin:auto;\">\n",
    "\n",
    "---"
   ]
  },
  {
   "cell_type": "markdown",
   "id": "8da5faf8-618a-431e-abb7-cf816a116584",
   "metadata": {},
   "source": [
    "<font color = 'DodgerBlue'>\n",
    "<font size = 5>\n",
    "    \n",
    "**Media y varianza de una variable aleatoria**"
   ]
  },
  {
   "cell_type": "markdown",
   "id": "4fe235b8-6a23-4421-96c5-99d7dd8a918c",
   "metadata": {},
   "source": [
    "<font color = 'Black'>\n",
    "<font size = 3>\n",
    "\n",
    "Imagina la siguiente situación: tienes una barra de longitud 1 posicionada de forma horizontal sobre un bloque triangular. Sobre la barra colocas bloques cuadrados, todos de masa 1. Y debes mover el bloque triangular para equilibrar la barra:\n",
    "\n",
    "<img src = \"Img/equilibrio_01.gif\" style = \"display:block; margin:auto;\">\n",
    "\n",
    "\n",
    "En este sentido, puedes pensar que los bloques son precisamente los edificios de un **histograma**, y por lo tanto la **media** o **esperanza** es el punto de apoyo que equilibra la barra (el triángulo rojo).\n",
    "\n",
    "<img src = \"Img/esperanza.gif\" style = \"display:block; margin:auto;\">\n",
    "\n",
    "\n",
    "Matemáticamente, si $R$ es el **rango** de la **variable aleatoria**, entonces la **esperanza** se define como \n",
    "\n",
    "$$E[X]=\\sum_{x\\in R}xf(x)\\mbox{ si }X\\mbox{ es discreta}$$ y $$E[X]=\\int_{x\\in R}xf(x)\\,\\mathrm{d}x\\mbox{ si }X\\mbox{ es continua}$$\n",
    "\n",
    "Por lo tanto, la **media** o **esperanza** es el **valor promedio que toma la variable aleatoria**. Observa que, bajo la notación anterior, $f(x)$ no tiene unidades, pero $x$ sí. Por ejemplo, si $X$ es la estatura de los niños de una ciudad medida en metros o en centímetros, entonces su **media** también estará en metros o en centímetros, respectivamente.\n",
    "\n",
    "> ⚠️ **Nota: El concepto del **gravicentro de una barra** es lo mismo que el **centro de gravedad** de una **variable aleatoria**. Es decir, la **esperanza** matemática.**\n",
    "\n",
    "La **esperanza** es definida de la siguiente manera:\n",
    "\n",
    "$$E[X] = \\int_{\\Omega} X dP$$\n",
    "\n",
    "Esto quiere decir que la **esperanza** de una **variable aleatoria**, es la integral de Lebesgue con respecto de cierta medida. Cuando ocupas el teorema de cambio de variable para integrales, la $X$ se convierte en la $xf$.\n",
    "\n",
    "Esto es, \n",
    "\n",
    "$$E[X] = \\int x f(x) dx$$\n",
    "\n",
    "Y el gravicentro lo puedes ver como\n",
    "\n",
    "$$gravicentro = \\int x \\rho(x) dx$$\n",
    "\n",
    "e incluso, el valor medio de una función es\n",
    "\n",
    "$$\\frac{\\int_{a}^{b} f(x)}{b - a}$$\n",
    "\n",
    "Por lo que los 3 conceptos son exactamente los mismos. Y los 3 conceptos se basan en la **integral de Lebesgue**.\n",
    "\n",
    "---\n",
    "\n",
    "A su vez, la **varianza** es la manera en la cual medimos cuánto se alejan los datos, **en promedio**, de su propia **media**. Es decir, qué tan gorda es la curva.\n",
    "\n",
    "<img src = \"Img/desviacion.gif\" style = \"display:block; margin:auto;\">\n",
    "\n",
    "\n",
    "Esto es \n",
    "\n",
    "$$Var(X)=E[(X-E[X])^2]=E[X^2]-E[X]^2$$\n",
    "\n",
    "Observa que las unidades de la **varianza** son las mismas que las de la **media** pero al cuadrado. Por ejemplo, si la **variable aleatoria** es la estatura de todos los niños de una ciudad, entonces le **media** estará en metros o centímetros; en tanto que la **varianza** estará en metros cuadrados o centímetros cuadrados.\n",
    "\n",
    "Por lo tanto la **raíz cuadrada de la varianza** estará en las mismas unidades que la **media**. A este valor se le llama **desviación de la variable aleatoria** o **desviación estándar**: \n",
    "\n",
    "$$sd(X)=\\sqrt{Var(X)}\\mbox{ que equivale a }sd^2(X)=Var(X)$$\n",
    "\n",
    "Así, conociendo la **desviación** se puede calcular la **varianza**, y viceversa.\n",
    "\n",
    "Esto tiene consecuencias muy importantes, ya que la **desviación** se puede considerar como una **norma**, una manera de medir topologías.\n",
    "\n",
    "---"
   ]
  },
  {
   "cell_type": "markdown",
   "id": "fc5a7d85-3cd3-4ca7-8185-6ac4e2d0ff51",
   "metadata": {},
   "source": [
    "<font color = 'Brown'>\n",
    "<font size = 4>\n",
    "    \n",
    "**Notas**"
   ]
  },
  {
   "cell_type": "markdown",
   "id": "632bbe79-3688-427f-b277-28b0b52d4749",
   "metadata": {},
   "source": [
    "<font color = 'DarkRed'>\n",
    "<font size = 3>\n",
    "\n",
    "- Eliminar **datos atípicos** no siempre es buen idea.\n",
    "- El rango de una **variable aleatoria** son los posibles resultados.\n",
    "- De alguna manera es como si la $f(x)$ midiera el presente, y la $F(x)$ te midiera el presente junto con el pasado.\n",
    "- La $F(x)$ es más fuerte ya que no solo te mide el momento de ahora, si no también el del ayer, retrocede en el tiempo.\n",
    "- La integral de cualquier función de distribución siempre es 1.\n",
    "- La **esperanza** es el punto de equilibrio. Es en dónde me tengo que para la gráfica quede totalmente horizontal.\n",
    "- Las unidades de la **esperanza** o el valor **medio** siempre tiene las misma unidades que estás midiendo."
   ]
  }
 ],
 "metadata": {
  "kernelspec": {
   "display_name": "Python 3 (ipykernel)",
   "language": "python",
   "name": "python3"
  },
  "language_info": {
   "codemirror_mode": {
    "name": "ipython",
    "version": 3
   },
   "file_extension": ".py",
   "mimetype": "text/x-python",
   "name": "python",
   "nbconvert_exporter": "python",
   "pygments_lexer": "ipython3",
   "version": "3.10.15"
  }
 },
 "nbformat": 4,
 "nbformat_minor": 5
}
