{
 "cells": [
  {
   "cell_type": "markdown",
   "id": "d2fb8df9-f72b-47e5-a935-52a123d0d37c",
   "metadata": {},
   "source": [
    "<font color='IndianRed'>\n",
    "<font size=10> \n",
    "\n",
    "**Tratamiento de Datos Atípicos**"
   ]
  },
  {
   "cell_type": "markdown",
   "id": "54cce535-fc31-4d73-a633-1c62268b54fc",
   "metadata": {},
   "source": [
    "<font color = 'DodgerBlue'>\n",
    "<font size = 6>\n",
    "    \n",
    "**Estimadores**"
   ]
  },
  {
   "cell_type": "markdown",
   "id": "d713d4a4-f6d1-4712-ae16-1bc48637bc6d",
   "metadata": {},
   "source": [
    "<font color = 'Black'>\n",
    "<font size = 3>\n",
    "\n",
    "Consideremos que\n",
    "\n",
    "* Una **variable aleatoria** $X$ es una característica de la **población**.\n",
    "\n",
    "* Al no poder tomar la medida de $X$ en toda la **población**, lo hacemos sobre una **muestra** de tamaño $n$. Digamos que la **muestra** es $E_1$, $E_2$,..., $E_n$. Donde $E_1$, $E_2$,..., $E_n$ son los renglones de la tabla. Esta **muestra** debe cumplir que sus elementos son **independientes** entre sí (es decir, que elegir un elemento de la **muestra** no condiciona elegir otro elemento).\n",
    "\n",
    "* El valor $X_i$ representa el valor de $X$ en el elemento $E_i$ de la **muestra**. Por lo tanto $X_i$ es a su vez **una variable aleatoria**. En cuanto tomamos la medida de $X$ en el elemento $E_i$, entonces al valor obtenido lo denotamos por $x_i$ y es lo que se conoce como una **observación**. Como los elementos de la **muestra** son independientes, entonces las variables $X_1,X_2,...,X_n$ son **independientes** y tienen la misma **distribución** que $X$.\n",
    "\n",
    "Por lo tanto, **cualquier función que dependa de las $X_i$ es a su vez una variable aleatoria**.\n",
    "\n",
    "De esta manera, un **estimador** es una función que depende de las $X_i$, así que es una **variable aleatoria**. Los estimadores son útiles para *estimar* o aproximar el valor verdadero de la **variable aleatoria** $X$ en la **población**. \n",
    "\n",
    "---"
   ]
  },
  {
   "cell_type": "markdown",
   "id": "2fa12f86-9e52-4ec3-a597-5485feefe84a",
   "metadata": {},
   "source": [
    "<font color = 'Black'>\n",
    "<font size = 3>\n",
    "\n",
    "Los **estimadores** más utilizados son:\n",
    "\n",
    "* **Media muestral**: $$\\overline{X}=\\hat{\\mu}=\\frac{X_1+X_2+...+X_n}{n}$$\n",
    "\n",
    "* **Varianza muestral**: $$\\hat{\\sigma^2}=\\frac{(X_1-\\hat{\\mu})^2+(X_2-\\hat{\\mu})^2+...+(X_n-\\hat{\\mu})^2}{n-1}$$\n",
    "\n",
    "* **Proporción muestral**: $$\\hat{p}=\\frac{\\mbox{Número de éxitos}}{n}$$\n",
    "\n",
    "---"
   ]
  },
  {
   "cell_type": "markdown",
   "id": "29a9b5e3-2ecb-42d3-ad67-7226054947ce",
   "metadata": {},
   "source": [
    "<font color = 'Black'>\n",
    "<font size = 3>\n",
    "\n",
    "Existen infinitas maneras de elegir un **estimador** para estimar una característica **poblacional**.\n",
    "\n",
    "Por ejemplo, supongamos que queremos estimar la **estatura promedio de todos los personajes de Dragon Ball Z**. Tomamos una **muestra** aleatoria de personajes.\n",
    "\n",
    "<img src = \"Img/im009.png\" style = \"display:block; margin:auto;\">\n",
    "\n",
    "Obtenemos los siguientes datos:\n",
    "\n",
    "| Personaje      | Estatura |\n",
    "|---------------|----------|\n",
    "| Chaoz        | 1.38 m   |\n",
    "| Ten Shin Han | 1.87 m   |\n",
    "| Maestro Roshi| 1.65 m   |\n",
    "| Yamcha       | 1.83 m   |\n",
    "| Oolong       | 1.21 m   |\n",
    "| Puar         | 0.33 m   |\n",
    "| Bulma        | 1.65 m   |\n",
    "| Vegeta       | 1.64 m   |\n",
    "| Trunks niño  | 1.23 m   |\n",
    "| Gokú         | 1.75 m   |\n",
    "| Buu gordo    | 2.20 m   |\n",
    "| Mr. Satán    | 1.88 m   |\n",
    "| Chichi       | 1.63 m   |\n",
    "| Goten niño   | 1.15 m   |\n",
    "| Piccolo      | 2.26 m   |\n",
    "| Gohan adulto | 1.76 m   |\n",
    "| Videl        | 1.57 m   |\n",
    "| Nº 18        | 1.70 m   |\n",
    "| Krillin      | 1.53 m   |\n",
    "| Marron       | 1.10 m   |\n"
   ]
  },
  {
   "cell_type": "markdown",
   "id": "1a90539b-d65e-456f-8334-37bd1f1ed6fc",
   "metadata": {},
   "source": [
    "<font color = 'Black'>\n",
    "<font size = 3>\n",
    "\n",
    "**¿Será buena idea decir que la estatura promedio de los personajes de DBZ es aproximadamente el valor máximo de nuestra muestra?** En este caso es Pícoro, quien mide 2.26m\n",
    "\n",
    "<img src = \"Img/im011.png\" style = \"display:block; margin:auto;\" width = \"30%\">\n",
    "\n",
    "---"
   ]
  },
  {
   "cell_type": "markdown",
   "id": "a5f7a07a-1940-4bc0-8b55-98f1304cb23b",
   "metadata": {},
   "source": [
    "<font color = 'Black'>\n",
    "<font size = 3>\n",
    "\n",
    "**¿Será buena idea decir que la estatura promedio de los personajes de DBZ es aproximadamente el valor mínimo de nuestra muestra?** En este caso es Puar, quien mide 0.33m\n",
    "\n",
    "<img src=\"Img/im010.png\" style = \"display:block; margin:auto;\" width = \"10%\">\n",
    "\n",
    "---"
   ]
  },
  {
   "cell_type": "markdown",
   "id": "6529cb64-4fc6-4ab5-a12c-f142702e9f67",
   "metadata": {},
   "source": [
    "<font color = 'Black'>\n",
    "<font size = 3>\n",
    "\n",
    "**¿Será buena idea decir que la estatura promediode los personajes de DBZ es aproximadamente el la suma del coseno de los elementos de la muestra?** En este caso es $$\\cos(Chaoz)+\\cos(Ten)+...+\\cos(Krillin)+\\cos(Marron)=-0.1349$$\n",
    "\n",
    "<img src = \"Img/im012.png\" style = \"display:block; margin:auto;\">\n",
    "\n",
    "---"
   ]
  },
  {
   "cell_type": "markdown",
   "id": "c828d23b-169c-4e4d-9602-911787871b85",
   "metadata": {},
   "source": [
    "<font color = 'Black'>\n",
    "<font size = 3>\n",
    "\n",
    "Es claro que ninguna de las opciones anteriores funcionaría muy bien. Es por esto que debemos decidir qué estimador es el que más nos sirve. Para esto, definimos algunas propiedades que un buen **estimador** debe tener:\n",
    "\n",
    "* **Insesgadez**\n",
    "* **Eficiencia**\n",
    "* **Consistencia**\n",
    "\n",
    "---"
   ]
  },
  {
   "cell_type": "markdown",
   "id": "91dcbc1e-795f-49ee-ae10-565f5a413c14",
   "metadata": {},
   "source": [
    "<font color = 'DodgerBlue'>\n",
    "<font size = 5>\n",
    "    \n",
    "**Insesgadez**"
   ]
  },
  {
   "cell_type": "markdown",
   "id": "163c27cf-63b4-4035-ba79-973e8993b965",
   "metadata": {},
   "source": [
    "<font color = 'Black'>\n",
    "<font size = 3>\n",
    "\n",
    "Supongamos que queremos estimar un **parámetro poblacional** $\\theta$ y tenemos un **estimador** $\\hat{\\theta}$. Es decir, $\\theta$ es el valor verdadero (que no podemos conocer) y $\\hat{\\theta}$ es el **estadístico** obtenido en la muestra, con el cual queremos aproximarnos al valor de $\\theta$.\n",
    "\n",
    "Usando el ejemplo de **Dragon Ball Z**, quedaría de la siguien te manera:\n",
    "\n",
    "- $\\theta$ es el valor promedio de las estaturas de TODO Dragon Ball Z.\n",
    "- $\\hat{\\theta} = cos(X_1)+\\cos(X_2)+...+\\cos(X_n)$, donde $X_{1}, ..., X_{n}$ son las estaturas de los elementos de la **muestra**.\n",
    "- $\\hat{\\theta} = \\max\\{X_{1}, ..., X_{n}\\}$\n",
    "- $\\hat{\\theta} = \\min\\{X_{1}, ..., X_{n}\\}$\n",
    "- $\\hat{\\theta} = \\frac{X_{1}, X_{2},..., X_{n}}{n}$\n",
    "\n",
    "Como $\\hat{\\theta}$ es un **estadístico**, entonces es una **variable aleatoria**. \n",
    "\n",
    "Se define su **sesgo** como $$\\mathrm{bias}(\\hat{\\theta})=E[\\hat{\\theta}]-\\theta$$\n",
    "\n",
    "Si el **sesgo** es 0, se dice que el **estimador** $\\hat{\\theta}$ es **insesgado**.\n",
    "\n",
    "Un **estimador** es *asintóticamente insesgado* si el sesgo tiende a 0 a medida que aumentamos el tamaño de la **muestra**.\n",
    "\n",
    "Por qué nos interesa que $E[\\hat{\\theta}] = \\theta$ o **insesgado**? Porque con la propiedad de **insesgadez** te quitas la preocupación de que no conoces el **parámetro poblacional**. Ya que el valor de $\\theta$ nunca lo vas a poder conocer, tu intención es poder estimarlo.\n",
    "\n",
    "---\n",
    "\n",
    "Para entenderlo mejor veámoslo de la siguiente manera:\n",
    "\n",
    "Supongamos que queremos estimar la distancia promedio de todas las estrellas de Cisne a la Tierra. Se estima que hay 10000 estrellas pero solamente se conocen como a 2000. \n",
    "\n",
    "Llamemos $\\theta$ a este valor. Tomas una **muestra** de tamaño $n$ y mides las distancias. Digamos que son $X_{1}, X_{2},..., X_{n}$.\n",
    "\n",
    "Sea $\\hat{\\theta} = \\frac{X_{1}, X_{2},..., X_{n}}{n}$, el promedio de las distancias **muestrales**. \n",
    "\n",
    "Observar que $X_{1}, X_{2},..., X_{n}$ son **variables aleatorias** porque dependen de la **muestra**.\n",
    "\n",
    "La **esperanza** $$E[\\hat{\\theta}] = E \\left[\\frac{X_{1}, X_{2},..., X_{n}}{n} \\right]$$\n",
    "\n",
    "Como la **esperanza** está definida como una integral y las **esperanzas** rompen sumas y como $X_{1}, X_{2},..., X_{n}$ siguen la misma ley de **probabilidad**, y como todas están intentando medir lo mismo (la distancia), entonces: \n",
    "\n",
    "\\begin{eqnarray*}\n",
    "&&E[\\hat{\\theta}]\\\\\n",
    "& = &E \\left[\\frac{X_{1}, X_{2},..., X_{n}}{n} \\right]\\\\\n",
    "& = &\\frac{1}{n} E \\left[\\frac{X_{1}, X_{2},..., X_{n}}{n} \\right]\\\\\n",
    "& = &\\frac{E[X_1] +...+ E[X_n]}{n}\\\\\n",
    "& = &\\frac{n[X_1]}{n}\\\\\n",
    "& = &E[X]\\\\\n",
    "& = &\\theta\n",
    "\\end{eqnarray*}\n",
    "\n",
    "Recordar que $X$ es la distancia a cualquier estrella de Cisne, por lo tanto el valor **promedio** de esa distancia no es otra cosa más que el valor verdadero $\\theta$. \n",
    "\n",
    "Es otras palabras, si yo me tomo la **variable aleatoria** que mide la distancia a cualquier estrella, el valor **promedio** de esa distancia es precisamente la distancia **promedio** de todas.\n",
    "\n",
    "Observar que las $X_{i}$ son diferentes, lo que son iguales son las **esperanzas**. Por qué todas las **esperanzas** de las $X_{i}$ son iguales? En teoría, porque tomaste un **muestreo** aleatorio simple y todos vienen de la misma **distribución de probabilidad**.\n",
    "\n",
    "---"
   ]
  },
  {
   "cell_type": "markdown",
   "id": "862259cd-8217-41e0-b7fd-918c43dd37db",
   "metadata": {},
   "source": [
    "<font color = 'DodgerBlue'>\n",
    "<font size = 5>\n",
    "    \n",
    "**Eficiencia**"
   ]
  },
  {
   "cell_type": "markdown",
   "id": "47afcd04-415b-467a-9940-9af4f63513e0",
   "metadata": {},
   "source": [
    "<font color = 'Black'>\n",
    "<font size = 3>\n",
    "\n",
    "La eficiencia se refiere a la inversa de la **varianza**: $$\\mathrm{Eficiencia}(\\hat{\\theta})=\\frac{1}{\\mathrm{Var}(\\hat{\\theta})}$$\n",
    "\n",
    "Así, mientras menor sea la **varianza** (gordura), el **estimador** es más **eficiente**: si $\\mathrm{Var}(\\hat{\\theta_1})<\\mathrm{Var}(\\hat{\\theta_2})$ entonces $$\\mathrm{Eficiencia}(\\hat{\\theta_1})>\\mathrm{Eficiencia}(\\hat{\\theta_2})$$\n",
    "\n",
    "> ⚠️ **Entre más delgado (menor varianza) sea un estimador más eficiente va ser.**\n",
    "\n",
    "> ⚠️ **Si la varianza disminuye, la eficiencia aumenta.**\n",
    "\n",
    "---"
   ]
  },
  {
   "cell_type": "markdown",
   "id": "e5446fe1-1d67-42c7-8d24-a1646cb4af93",
   "metadata": {},
   "source": [
    "<font color = 'DodgerBlue'>\n",
    "<font size = 5>\n",
    "    \n",
    "**Consistencia**"
   ]
  },
  {
   "cell_type": "markdown",
   "id": "63d72fc3-03f3-4838-be6b-341f1eacbae9",
   "metadata": {},
   "source": [
    "<font color = 'Black'>\n",
    "<font size = 3>\n",
    "\n",
    "Ahora bien, ya sabemos que debemos buscar que el **sesgo** se minimize y le **eficiencia** se maximice. Para conseguir ambos objetivos utilizamos el **error cuadrático medio**:\n",
    "\n",
    "$$\\mathrm{ECM}(\\hat{\\theta}) = E[(\\hat{\\theta}-\\theta)^2] = \\mathrm{bias}(\\hat{\\theta})^2 + \\mathrm{Var}(\\hat{\\theta})$$\n",
    "\n",
    "> ⚠️ **Un estimador es consistente cuando, al aumentar el tamaño de la muestra, el $ECM$ tiende a 0.**\n",
    "\n",
    "> ⚠️ **Si el $\\mathrm{ECM}$ es pequeño, garantizas que casi se te cumple el ser insesgado y casi se te cumple ser eficiente.**\n",
    "\n",
    "---"
   ]
  },
  {
   "cell_type": "markdown",
   "id": "d4d87d1f-26ff-470f-801f-1438d15bfc71",
   "metadata": {},
   "source": [
    "<font color = 'DodgerBlue'>\n",
    "<font size = 6>\n",
    "    \n",
    "**Conclusión**"
   ]
  },
  {
   "cell_type": "markdown",
   "id": "300eb6f2-151d-4c85-b0a5-77fac56d1127",
   "metadata": {},
   "source": [
    "<font color = 'Black'>\n",
    "<font size = 3>\n",
    "\n",
    "**Recordar que nuestro objetivo es estimar el valor verdadero de un parámetro poblacional, es decir, una característica de toda la población (como la estatura promedio).**  \n",
    "\n",
    "Los **parámetros poblacionales** suelen dividirse en tres categorías principales:  \n",
    "\n",
    "- **Medidas de tendencia central o localización:** Representan un valor típico o central de los **datos** (por ejemplo, la **media** o la **mediana**).  \n",
    "- **Medidas de dispersión:** Indican qué tan dispersos o agrupados están los **datos** en torno a la tendencia central (como la **varianza** o el **rango intercuartílico**).  \n",
    "- **Medidas de forma:** Describen la **distribución** de los **datos**, incluyendo su simetría y la forma de su cola (como la **asimetría** y la **curtosis**).\n",
    "\n",
    "---"
   ]
  },
  {
   "cell_type": "markdown",
   "id": "84d35055-ada2-4ca8-9ed6-e27808125a3a",
   "metadata": {},
   "source": [
    "<font color = 'Brown'>\n",
    "<font size = 4>\n",
    "    \n",
    "**Notas**"
   ]
  },
  {
   "cell_type": "markdown",
   "id": "cf378167-cf57-45bf-8f3c-62a423000721",
   "metadata": {},
   "source": [
    "<font color = 'DarkRed'>\n",
    "<font size = 3>\n",
    "\n",
    "- $X$ es la **variable aleatoria**.\n",
    "- $X_i$ es el nombre de la característica en el renglón $i$. No es el valor!\n",
    "- $x_{i}$ es el valor de la medición del elemento $i$ de la **muestra**.\n",
    "- La **función de distribución** nunca la vas a conocer.\n",
    "- En la práctica, el valor de $\\theta$ nunca lo vas a poder conocer, tu intención es poder estimarlo to mando una **muestra** y calculas $\\hat{\\theta}$.\n",
    "- Las **esperanzas** son **promedios**.\n",
    "- El **sesgo** $\\mathrm{bias}$ puede ser negativo."
   ]
  }
 ],
 "metadata": {
  "kernelspec": {
   "display_name": "Python 3 (ipykernel)",
   "language": "python",
   "name": "python3"
  },
  "language_info": {
   "codemirror_mode": {
    "name": "ipython",
    "version": 3
   },
   "file_extension": ".py",
   "mimetype": "text/x-python",
   "name": "python",
   "nbconvert_exporter": "python",
   "pygments_lexer": "ipython3",
   "version": "3.10.15"
  }
 },
 "nbformat": 4,
 "nbformat_minor": 5
}
