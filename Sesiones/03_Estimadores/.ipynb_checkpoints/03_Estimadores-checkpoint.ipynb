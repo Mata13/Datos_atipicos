{
 "cells": [
  {
   "cell_type": "markdown",
   "id": "d2fb8df9-f72b-47e5-a935-52a123d0d37c",
   "metadata": {},
   "source": [
    "<font color='IndianRed'>\n",
    "<font size=10> \n",
    "\n",
    "**Tratamiento de Datos Atípicos**"
   ]
  },
  {
   "cell_type": "markdown",
   "id": "54cce535-fc31-4d73-a633-1c62268b54fc",
   "metadata": {},
   "source": [
    "<font color = 'DodgerBlue'>\n",
    "<font size = 6>\n",
    "    \n",
    "**Estimadores**"
   ]
  },
  {
   "cell_type": "markdown",
   "id": "d713d4a4-f6d1-4712-ae16-1bc48637bc6d",
   "metadata": {},
   "source": [
    "<font color = 'Black'>\n",
    "<font size = 3>\n",
    "\n",
    "Consideremos que\n",
    "\n",
    "* Una **variable aleatoria** $X$ es una característica de la **población**.\n",
    "\n",
    "* Al no poder tomar la medida de $X$ en toda la **población**, lo hacemos sobre una **muestra** de tamaño $n$. Digamos que la **muestra** es $E_1$, $E_2$,..., $E_n$. Donde $E_1$, $E_2$,..., $E_n$ son los renglones de la tabla. Esta **muestra** debe cumplir que sus elementos son **independientes** entre sí (es decir, que elegir un elemento de la **muestra** no condiciona elegir otro elemento).\n",
    "\n",
    "* El valor $X_i$ representa el valor de $X$ en el elemento $E_i$ de la **muestra**. Por lo tanto $X_i$ es a su vez **una variable aleatoria**. En cuanto tomamos la medida de $X$ en el elemento $E_i$, entonces al valor obtenido lo denotamos por $x_i$ y es lo que se conoce como una **observación**. Como los elementos de la **muestra** son independientes, entonces las variables $X_1,X_2,...,X_n$ son **independientes** y tienen la misma **distribución** que $X$.\n",
    "\n",
    "Por lo tanto, **cualquier función que dependa de las $X_i$ es a su vez una variable aleatoria**.\n",
    "\n",
    "De esta manera, un **estimador** es una función que depende de las $X_i$, así que es una **variable aleatoria**. Los estimadores son útiles para *estimar* o aproximar el valor verdadero de la **variable aleatoria** $X$ en la **población**. \n",
    "\n",
    "---"
   ]
  },
  {
   "cell_type": "markdown",
   "id": "2fa12f86-9e52-4ec3-a597-5485feefe84a",
   "metadata": {},
   "source": [
    "<font color = 'Black'>\n",
    "<font size = 3>\n",
    "\n",
    "Los **estimadores** más utilizados son:\n",
    "\n",
    "* **Media muestral**: $$\\overline{X}=\\hat{\\mu}=\\frac{X_1+X_2+...+X_n}{n}$$\n",
    "\n",
    "* **Varianza muestral**: $$\\hat{\\sigma^2}=\\frac{(X_1-\\hat{\\mu})^2+(X_2-\\hat{\\mu})^2+...+(X_n-\\hat{\\mu})^2}{n-1}$$\n",
    "\n",
    "* **Proporción muestral**: $$\\hat{p}=\\frac{\\mbox{Número de éxitos}}{n}$$\n",
    "\n",
    "---"
   ]
  },
  {
   "cell_type": "markdown",
   "id": "29a9b5e3-2ecb-42d3-ad67-7226054947ce",
   "metadata": {},
   "source": [
    "<font color = 'Black'>\n",
    "<font size = 3>\n",
    "\n",
    "Existen infinitas maneras de elegir un **estimador** para estimar una característica **poblacional**.\n",
    "\n",
    "Por ejemplo, supongamos que queremos estimar la **estatura promedio de todos los personajes de Dragon Ball Z**. Tomamos una **muestra** aleatoria de personajes.\n",
    "\n",
    "<img src = \"Img/im009.png\" style = \"display:block; margin:auto;\">\n",
    "\n",
    "Obtenemos los siguientes datos:\n",
    "\n",
    "| Personaje      | Estatura |\n",
    "|---------------|----------|\n",
    "| Chaoz        | 1.38 m   |\n",
    "| Ten Shin Han | 1.87 m   |\n",
    "| Maestro Roshi| 1.65 m   |\n",
    "| Yamcha       | 1.83 m   |\n",
    "| Oolong       | 1.21 m   |\n",
    "| Puar         | 0.33 m   |\n",
    "| Bulma        | 1.65 m   |\n",
    "| Vegeta       | 1.64 m   |\n",
    "| Trunks niño  | 1.23 m   |\n",
    "| Gokú         | 1.75 m   |\n",
    "| Buu gordo    | 2.20 m   |\n",
    "| Mr. Satán    | 1.88 m   |\n",
    "| Chichi       | 1.63 m   |\n",
    "| Goten niño   | 1.15 m   |\n",
    "| Piccolo      | 2.26 m   |\n",
    "| Gohan adulto | 1.76 m   |\n",
    "| Videl        | 1.57 m   |\n",
    "| Nº 18        | 1.70 m   |\n",
    "| Krillin      | 1.53 m   |\n",
    "| Marron       | 1.10 m   |\n"
   ]
  },
  {
   "cell_type": "markdown",
   "id": "1a90539b-d65e-456f-8334-37bd1f1ed6fc",
   "metadata": {},
   "source": [
    "<font color = 'Black'>\n",
    "<font size = 3>\n",
    "\n",
    "**¿Será buena idea decir que la estatura promedio de los personajes de DBZ es aproximadamente el valor máximo de nuestra muestra?** En este caso es Pícoro, quien mide 2.26m\n",
    "\n",
    "<img src = \"Img/im011.png\" style = \"display:block; margin:auto;\" width = \"30%\">\n",
    "\n",
    "---"
   ]
  },
  {
   "cell_type": "markdown",
   "id": "a5f7a07a-1940-4bc0-8b55-98f1304cb23b",
   "metadata": {},
   "source": [
    "<font color = 'Black'>\n",
    "<font size = 3>\n",
    "\n",
    "**¿Será buena idea decir que la estatura promedio de los personajes de DBZ es aproximadamente el valor mínimo de nuestra muestra?** En este caso es Puar, quien mide 0.33m\n",
    "\n",
    "<img src=\"Img/im010.png\" style = \"display:block; margin:auto;\" width = \"10%\">\n",
    "\n",
    "---"
   ]
  },
  {
   "cell_type": "markdown",
   "id": "6529cb64-4fc6-4ab5-a12c-f142702e9f67",
   "metadata": {},
   "source": [
    "<font color = 'Black'>\n",
    "<font size = 3>\n",
    "\n",
    "**¿Será buena idea decir que la estatura promediode los personajes de DBZ es aproximadamente el la suma del coseno de los elementos de la muestra?** En este caso es $$\\cos(Chaoz)+\\cos(Ten)+...+\\cos(Krillin)+\\cos(Marron)=-0.1349$$\n",
    "\n",
    "<img src = \"Img/im012.png\" style = \"display:block; margin:auto;\">\n",
    "\n",
    "---"
   ]
  },
  {
   "cell_type": "markdown",
   "id": "c828d23b-169c-4e4d-9602-911787871b85",
   "metadata": {},
   "source": [
    "<font color = 'Black'>\n",
    "<font size = 3>\n",
    "\n",
    "Es claro que ninguna de las opciones anteriores funcionaría muy bien. Es por esto que debemos decidir qué estimador es el que más nos sirve. Para esto, definimos algunas propiedades que un buen **estimador** debe tener:\n",
    "\n",
    "* **Insesgadez**\n",
    "* **Eficiencia**\n",
    "* **Consistencia**\n",
    "\n",
    "---"
   ]
  },
  {
   "cell_type": "markdown",
   "id": "84d35055-ada2-4ca8-9ed6-e27808125a3a",
   "metadata": {},
   "source": [
    "<font color = 'Brown'>\n",
    "<font size = 4>\n",
    "    \n",
    "**Notas**"
   ]
  },
  {
   "cell_type": "markdown",
   "id": "cf378167-cf57-45bf-8f3c-62a423000721",
   "metadata": {},
   "source": [
    "<font color = 'DarkRed'>\n",
    "<font size = 3>\n",
    "\n",
    "- $X$ es la **variable aleatoria**.\n",
    "- $X_i$ es el nombre de la característica en el renglón $i$. No es el valor!\n",
    "- $x_{i}$ es el valor de la medición del elemento $i$ de la **muestra**.\n",
    "- La **función de distribución** nunca la vas a conocer."
   ]
  },
  {
   "cell_type": "code",
   "execution_count": 2,
   "id": "b2169c62-1580-4494-969b-77ca25f4dc52",
   "metadata": {},
   "outputs": [],
   "source": [
    "# Sesion 04 - min 0:00"
   ]
  },
  {
   "cell_type": "code",
   "execution_count": null,
   "id": "009912ea-a5d0-4fa3-b0ac-d45eca4d3fde",
   "metadata": {},
   "outputs": [],
   "source": []
  }
 ],
 "metadata": {
  "kernelspec": {
   "display_name": "Python 3 (ipykernel)",
   "language": "python",
   "name": "python3"
  },
  "language_info": {
   "codemirror_mode": {
    "name": "ipython",
    "version": 3
   },
   "file_extension": ".py",
   "mimetype": "text/x-python",
   "name": "python",
   "nbconvert_exporter": "python",
   "pygments_lexer": "ipython3",
   "version": "3.10.15"
  }
 },
 "nbformat": 4,
 "nbformat_minor": 5
}
