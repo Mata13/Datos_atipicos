{
 "cells": [
  {
   "cell_type": "markdown",
   "id": "ab914941-b45b-485f-aa23-95cab2cfc1a6",
   "metadata": {},
   "source": [
    "<font color='IndianRed'>\n",
    "<font size=10> \n",
    "\n",
    "**Tratamiento de Datos Atípicos**"
   ]
  },
  {
   "cell_type": "markdown",
   "id": "217df598-3fa1-4783-978e-ac0e16fdc8c6",
   "metadata": {},
   "source": [
    "<font color = 'DodgerBlue'>\n",
    "<font size = 6>\n",
    "    \n",
    "**Medidas de tendencia central**"
   ]
  },
  {
   "cell_type": "markdown",
   "id": "6496d832-54ce-4317-a00b-c91ffe134d4b",
   "metadata": {},
   "source": [
    "<font color = 'Black'>\n",
    "<font size = 3>\n",
    "\n",
    "Una **medida de tendencia central** es un número que representa los **datos**. Las más usuales son la **media** y la **mediana**. Veamos cómo se calculan.\n",
    "\n",
    "---"
   ]
  },
  {
   "cell_type": "markdown",
   "id": "a2fcfcb4-0db5-4e75-a4cb-436870a39004",
   "metadata": {},
   "source": [
    "<font color = 'DodgerBlue'>\n",
    "<font size = 5>\n",
    "    \n",
    "**Media**"
   ]
  },
  {
   "cell_type": "markdown",
   "id": "ad8ea8c3-96da-446a-adf8-0e8e251d58b0",
   "metadata": {},
   "source": [
    "<font color = 'Black'>\n",
    "<font size = 3>\n",
    "\n",
    "Si $x_1,x_2,...,x_n$ son $n$ datos, donde $x_1,x_2,...,x_n$ son los valores de la tabla, entonces:\n",
    "\n",
    "* **Media.** se trata del **promedio** aritmético $$\\overline{x}=\\frac{x_1+x_2+...+x_n}{n}$$\n",
    "\n",
    "**Ejemplo.** Supongamos que tenemos los **datos** 8.46, 2.18, 4.04, 10.84, 5.17, 7.76, 5.67, 2.41, 3.15, 5.19, 8.22, 7.27\n",
    "\n",
    "En total son 12 **datos**. La **media** es $$\\overline{x}=\\frac{8.46+2.18+4.04+10.84+5.17+7.76+5.67+2.41+3.15+5.19+8.22+7.27}{12}=5.863$$\n",
    "\n",
    "---"
   ]
  },
  {
   "cell_type": "markdown",
   "id": "e52c3a15-3a4a-4f97-9f5a-9b1271571bdd",
   "metadata": {},
   "source": [
    "<font color = 'DodgerBlue'>\n",
    "<font size = 5>\n",
    "    \n",
    "**Mediana**"
   ]
  },
  {
   "cell_type": "markdown",
   "id": "2a8bdba7-14c9-40b2-906b-ffd3bfbf7763",
   "metadata": {},
   "source": [
    "<font color = 'Black'>\n",
    "<font size = 3>\n",
    "\n",
    "Se trata del valor que divide a los **datos** en el 50% más alto y el 50% más bajo. Es decir, que una vez que se ordenan los **datos** del menor al mayor (o viceversa), si $n$ es impar entonces la **mediana** es el valor que queda a la mitad de la lista ordenada; y si $n$ es par, entonces la **mediana** es el **promedio** de los dos **datos** centrales.\n",
    "\n",
    "**Ejemplo.** Supongamos que tenemos los **datos** 8.46, 2.18, 4.04, 10.84, 5.17, 7.76, 5.67, 2.41, 3.15, 5.19, 8.22, 7.27\n",
    "\n",
    "Ordenamos de menor a mayor: 2.18, 2.41, 3.15, 4.04, 5.17, 5.19, 5.67, 7.27, 7.76, 8.22, 8.46, 10.84\n",
    "\n",
    "Como hay 12 **datos**, entonces la **mediana** es el valor que parte a la mitad a la lista anterior, dejando por debajo a los más pequeños y por arriba a los más grandes. En este caso, como el total de datos es 12 y es par, tendremos que la **mediana** es promedio de los **datos** en las posiciones 6 y 7:\n",
    "\n",
    "2.18, 2.41, 3.15, 4.04, 5.17, <span style = \"color:red\"> 5.19 </span>, <span style = \"color:red\"> 5.67 </span>, 7.27, 7.76, 8.22, 8.46, 10.84  \n",
    "\n",
    "$mediana=\\frac{5.19+5.67}{2}=5.43$\n",
    "\n",
    "De lo anterior, podemos decir que tanto la **media** (5.863) como la **mediana** (5.43) son representantes de los valores 2.18, 2.41, 3.15, 4.04, 5.17, 5.19, 5.67, 7.27, 7.76, 8.22, 8.46, 10.84\n",
    "\n",
    "---"
   ]
  },
  {
   "cell_type": "markdown",
   "id": "2cb6ca0e-1f67-4869-a599-fbe4175ca0dd",
   "metadata": {},
   "source": [
    "<font color = 'DodgerBlue'>\n",
    "<font size = 5>\n",
    "    \n",
    "**Media vs Mediana**"
   ]
  },
  {
   "cell_type": "markdown",
   "id": "a427000c-c13e-439b-8036-81b7880048c6",
   "metadata": {},
   "source": [
    "<font color = 'Black'>\n",
    "<font size = 3>\n",
    "\n",
    "Ahora bien, ambas tienen diferentes propiedades. \n",
    "\n",
    "Por ejemplo, la **media** es la medida de tendencia central más utilizada en la práctica. Sin embargo, **se ve fuertemente afectada por la presencia de datos atípicos**. Por su parte, la **mediana** no se afecta bajo **atípicos**. En este caso, decimos que la **mediana** es un **estimador robusto**.\n",
    "\n",
    "Consideremos los siguientes datos:\n",
    "\n",
    "<table>\n",
    "  <tr>\n",
    "    <th>Datos</th>\n",
    "    <td>8</td>\n",
    "    <td>3</td>\n",
    "    <td>9</td>\n",
    "    <td>7</td>\n",
    "    <td>2</td>\n",
    "    <td>8</td>\n",
    "    <td>6</td>\n",
    "    <td>4</td>\n",
    "    <td>7</td>\n",
    "    <td>9</td>\n",
    "    <td>8</td>\n",
    "    <td>5</td>\n",
    "    <td>9</td>\n",
    "  </tr>\n",
    "</table>"
   ]
  },
  {
   "cell_type": "markdown",
   "id": "37b3c496-46f2-4393-a802-d0117e37fb79",
   "metadata": {},
   "source": [
    "<font color = 'Black'>\n",
    "<font size = 3>\n",
    "\n",
    "Hagamos su **histograma** \"sencillo\". Es decir, simplemente dibujar bloques o esferas, tantos como repeticiones de cada valor hay:\n",
    "\n",
    "<img src = \"Img/im014.png\" style = \"display:block; margin:auto;\">\n",
    "\n",
    "De esta manera, podemos observar cómo varían la **media** y la **mediana**. \n",
    "\n",
    "---"
   ]
  },
  {
   "cell_type": "markdown",
   "id": "9068fcb5-e615-4d58-8979-1672b2cc81df",
   "metadata": {},
   "source": [
    "<font color = 'Black'>\n",
    "<font size = 3>\n",
    "\n",
    "<pre style=\"color: teal; font-family: monospace; text-align: left;\">\n",
    "################################################################\n",
    "#######################     En Excel     #######################\n",
    "################################################################\n",
    "</pre>\n",
    "\n",
    "| Medida  | Código                                   |\n",
    "|---------|-----------------------------------------|\n",
    "| Media   | `=PROMEDIO(celda_inicial:celda_final)` |\n",
    "| Mediana | `=MEDIANA(celda_inicial:celda_final)`  |\n",
    "\n",
    "<pre style=\"color: teal; font-family: monospace; text-align: left;\">\n",
    "################################################################\n",
    "</pre>\n",
    "\n",
    "\n",
    "\n",
    "\n",
    "\n",
    "```r\n",
    "################################################################\n",
    "########################      EN R       #######################\n",
    "################################################################\n",
    "\n",
    "datos = c(8,3,9,7,2,8,6,4,7,9,8,5,9)\n",
    "datos_con_atipico = c(8,3,9,7,2,8,6,4,7,9,8,100,9)\n",
    "\n",
    "media_datos = mean(datos, na.rm=TRUE) # el parámetro na.rm es para que no considere valores huecos\n",
    "media_con_atipico = mean(datos_con_atipico, na.rm=TRUE)\n",
    "\n",
    "mediana_datos = median(datos, na.rm=TRUE)\n",
    "mediana_con_atipico = median(datos_con_atipico, na.rm=TRUE)\n",
    "\n",
    "################################################################\n",
    "```\n",
    "\n",
    "```python\n",
    "################################################################\n",
    "########################    EN PYTHON    #######################\n",
    "################################################################\n",
    "\n",
    "import numpy as np\n",
    "\n",
    "datos = np.array([8, 3, 9, 7, 2, 8, 6, 4, 7, 9, 8, 5, 9])\n",
    "datos_con_atipico = np.array([8, 3, 9, 7, 2, 8, 6, 4, 7, 9, 8, 100, 9])\n",
    "\n",
    "media_datos = np.nanmean(datos)\n",
    "media_con_atipico = np.nanmean(datos_con_atipico)\n",
    "\n",
    "mediana_datos = np.median(datos)\n",
    "mediana_con_atipico = np.nanmedian(datos_con_atipico)\n",
    "\n",
    "################################################################\n",
    "```\n",
    "\n",
    "---"
   ]
  },
  {
   "cell_type": "markdown",
   "id": "0bc74b0a-f1ad-4b2a-bf44-e1a19ed6381d",
   "metadata": {},
   "source": [
    "<font color = 'Black'>\n",
    "<font size = 3>\n",
    "\n",
    "De esta manera, ante la presencia de datos atípicos, **la mediana es mejor representante central que la media**\n",
    "\n",
    "---"
   ]
  },
  {
   "cell_type": "markdown",
   "id": "2df450b3-d578-46c2-b4a6-573a74a0bd8d",
   "metadata": {},
   "source": [
    "<font color = 'DodgerBlue'>\n",
    "<font size = 5>\n",
    "    \n",
    "**Resumen de funciones:**"
   ]
  },
  {
   "cell_type": "markdown",
   "id": "061e85ad-e834-4ac4-8d4f-4b96aa102286",
   "metadata": {},
   "source": [
    "<font color = 'Black'>\n",
    "<font size = 3>\n",
    "\n",
    "| **Lenguaje** | **Paquetería** | **Estructura de datos** | **Medida**  | **Función** |\n",
    "|-------------|---------------|------------------------|------------|------------|\n",
    "| **Excel**   |               | Rango de celdas       | **Media**  | `=PROMEDIO(dato_inicial:dato_final)` |\n",
    "| **Excel**   |               | Rango de celdas       | **Mediana** | `=MEDIANA(dato_inicial:dato_final)` |\n",
    "| **R**       |               | Vector                | **Media**  | `mean(datos,na.rm=TRUE)` |\n",
    "| **R**       |               | Vector                | **Mediana** | `median(datos,na.rm=TRUE)` |\n",
    "| **Python**  | numpy         | Array                 | **Media**  | `np.nanmean(datos)` |\n",
    "| **Python**  | numpy         | Array                 | **Mediana** | `np.nanmedian(datos)` |\n",
    "\n",
    "---"
   ]
  },
  {
   "cell_type": "code",
   "execution_count": 15,
   "id": "b257ebda-9267-49e8-a868-514d79161f1d",
   "metadata": {},
   "outputs": [],
   "source": [
    "################################################################\n",
    "################################################################\n",
    "########################    EN PYTHON    #######################\n",
    "################################################################\n",
    "\n",
    "import numpy as np\n",
    "import os\n",
    "import pandas as pd"
   ]
  },
  {
   "cell_type": "code",
   "execution_count": 4,
   "id": "bc3eafd5-4e40-4ee4-9237-9c6ead4068a7",
   "metadata": {},
   "outputs": [],
   "source": [
    "datos = np.array([8, 3, 9, 7, 2, 8, 6, 4, 7, 9, 8, 5, 9])\n",
    "datos_con_atipico = np.array([8, 3, 9, 7, 2, 8, 6, 4, 7, 9, 8, 100, 9])"
   ]
  },
  {
   "cell_type": "code",
   "execution_count": 12,
   "id": "8c8d25ad-0691-43be-8368-da3d539af5d1",
   "metadata": {},
   "outputs": [],
   "source": [
    "media_datos = np.nanmean(datos)\n",
    "media_con_atipico = np.nanmean(datos_con_atipico) # nan es para que no considere los huecos\n",
    "\n",
    "mediana_datos = np.median(datos)\n",
    "mediana_con_atipico = np.nanmedian(datos_con_atipico) # nan es para que no considere los huecos"
   ]
  },
  {
   "cell_type": "code",
   "execution_count": 13,
   "id": "2a4f8613-8328-4118-a0a4-bf4e496291ed",
   "metadata": {},
   "outputs": [
    {
     "name": "stdout",
     "output_type": "stream",
     "text": [
      "---------------------------------------------\n",
      "La media de los datos es: 6.538461538461538\n",
      "La media con atípico es: 13.846153846153847\n",
      "---------------------------------------------\n",
      "La mediana de los datos es: 7.0\n",
      "La mediana con atípico es: 8.0\n",
      "---------------------------------------------\n"
     ]
    }
   ],
   "source": [
    "print('---------------------------------------------')\n",
    "\n",
    "print(f'La media de los datos es: {media_datos}')\n",
    "print(f'La media con atípico es: {media_con_atipico}')\n",
    "\n",
    "print('---------------------------------------------')\n",
    "\n",
    "print(f'La mediana de los datos es: {mediana_datos}')\n",
    "print(f'La mediana con atípico es: {mediana_con_atipico}')\n",
    "\n",
    "print('---------------------------------------------')"
   ]
  },
  {
   "cell_type": "code",
   "execution_count": 20,
   "id": "14a5ae17-cfac-44dc-b966-fa7015970e2f",
   "metadata": {},
   "outputs": [
    {
     "data": {
      "text/html": [
       "<div>\n",
       "<style scoped>\n",
       "    .dataframe tbody tr th:only-of-type {\n",
       "        vertical-align: middle;\n",
       "    }\n",
       "\n",
       "    .dataframe tbody tr th {\n",
       "        vertical-align: top;\n",
       "    }\n",
       "\n",
       "    .dataframe thead th {\n",
       "        text-align: right;\n",
       "    }\n",
       "</style>\n",
       "<table border=\"1\" class=\"dataframe\">\n",
       "  <thead>\n",
       "    <tr style=\"text-align: right;\">\n",
       "      <th></th>\n",
       "      <th>Estatura</th>\n",
       "      <th>Edad</th>\n",
       "    </tr>\n",
       "  </thead>\n",
       "  <tbody>\n",
       "    <tr>\n",
       "      <th>0</th>\n",
       "      <td>160</td>\n",
       "      <td>33.0</td>\n",
       "    </tr>\n",
       "    <tr>\n",
       "      <th>1</th>\n",
       "      <td>178</td>\n",
       "      <td>26.0</td>\n",
       "    </tr>\n",
       "    <tr>\n",
       "      <th>2</th>\n",
       "      <td>163</td>\n",
       "      <td>36.0</td>\n",
       "    </tr>\n",
       "    <tr>\n",
       "      <th>3</th>\n",
       "      <td>166</td>\n",
       "      <td>31.0</td>\n",
       "    </tr>\n",
       "    <tr>\n",
       "      <th>4</th>\n",
       "      <td>170</td>\n",
       "      <td>65.0</td>\n",
       "    </tr>\n",
       "    <tr>\n",
       "      <th>...</th>\n",
       "      <td>...</td>\n",
       "      <td>...</td>\n",
       "    </tr>\n",
       "    <tr>\n",
       "      <th>128</th>\n",
       "      <td>157</td>\n",
       "      <td>24.0</td>\n",
       "    </tr>\n",
       "    <tr>\n",
       "      <th>129</th>\n",
       "      <td>169</td>\n",
       "      <td>24.0</td>\n",
       "    </tr>\n",
       "    <tr>\n",
       "      <th>130</th>\n",
       "      <td>162</td>\n",
       "      <td>58.0</td>\n",
       "    </tr>\n",
       "    <tr>\n",
       "      <th>131</th>\n",
       "      <td>171</td>\n",
       "      <td>35.0</td>\n",
       "    </tr>\n",
       "    <tr>\n",
       "      <th>132</th>\n",
       "      <td>165</td>\n",
       "      <td>35.0</td>\n",
       "    </tr>\n",
       "  </tbody>\n",
       "</table>\n",
       "<p>133 rows × 2 columns</p>\n",
       "</div>"
      ],
      "text/plain": [
       "     Estatura  Edad\n",
       "0         160  33.0\n",
       "1         178  26.0\n",
       "2         163  36.0\n",
       "3         166  31.0\n",
       "4         170  65.0\n",
       "..        ...   ...\n",
       "128       157  24.0\n",
       "129       169  24.0\n",
       "130       162  58.0\n",
       "131       171  35.0\n",
       "132       165  35.0\n",
       "\n",
       "[133 rows x 2 columns]"
      ]
     },
     "execution_count": 20,
     "metadata": {},
     "output_type": "execute_result"
    }
   ],
   "source": [
    "os.chdir(r\"/home/zick13/Documentos/Developer/Courses/Datos_atipicos/Data\")\n",
    "\n",
    "# Leemos los datos y guardamos en una variable\n",
    "alumnos = pd.read_csv(\"alumnos_sesion_04.csv\")\n",
    "\n",
    "# Mostramos la el DataFrame\n",
    "alumnos"
   ]
  },
  {
   "cell_type": "code",
   "execution_count": 25,
   "id": "4e943202-15ba-4ec5-9ec0-584805f4f5bf",
   "metadata": {},
   "outputs": [
    {
     "name": "stdout",
     "output_type": "stream",
     "text": [
      "---------------------------------------------\n",
      "La media de las estaturas es: 168.99248120300751\n",
      "---------------------------------------------\n",
      "La mediana de las estaturas es: 170.0\n",
      "---------------------------------------------\n",
      "La media de las edades es: 36.35114503816794\n",
      "---------------------------------------------\n",
      "La mediana de las edades es: 34.0\n",
      "---------------------------------------------\n"
     ]
    }
   ],
   "source": [
    "print('---------------------------------------------')\n",
    "\n",
    "# Obtenemos la media de las estaturas\n",
    "print(f'La media de las estaturas es: {np.nanmean(alumnos.Estatura)}')\n",
    "\n",
    "print('---------------------------------------------')\n",
    "\n",
    "# Obtenemos la mediana de las estaturas\n",
    "print(f'La mediana de las estaturas es: {np.nanmedian(alumnos.Estatura)}')\n",
    "\n",
    "print('---------------------------------------------')\n",
    "\n",
    "# Obtenemos la media de las edades\n",
    "print(f'La media de las edades es: {np.nanmean(alumnos.Edad)}')\n",
    "\n",
    "print('---------------------------------------------')\n",
    "\n",
    "# Obtenemos la mediana de las edades\n",
    "print(f'La mediana de las edades es: {np.nanmedian(alumnos.Edad)}')\n",
    "\n",
    "print('---------------------------------------------')"
   ]
  }
 ],
 "metadata": {
  "kernelspec": {
   "display_name": "Python 3 (ipykernel)",
   "language": "python",
   "name": "python3"
  },
  "language_info": {
   "codemirror_mode": {
    "name": "ipython",
    "version": 3
   },
   "file_extension": ".py",
   "mimetype": "text/x-python",
   "name": "python",
   "nbconvert_exporter": "python",
   "pygments_lexer": "ipython3",
   "version": "3.10.15"
  }
 },
 "nbformat": 4,
 "nbformat_minor": 5
}
